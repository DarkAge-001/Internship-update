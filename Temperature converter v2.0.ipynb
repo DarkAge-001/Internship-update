{
 "cells": [
  {
   "cell_type": "markdown",
   "id": "cbc130c5-d17f-43a6-8841-b34a3fb7ea45",
   "metadata": {},
   "source": [
    "#### Version 2.0 <br> <br>Alternatively, we want a conversion system where we would be able to convert kelvin also  \n",
    "In order to do that we revamp the programs' code.<br> ***LET'S GO***<br>This Version of the program accepts and selects between the three temperature input (***ie:*** Fahrenheit, Kelvin and Celcuis).<br>It converts from one form to another by prompting the user to choose which unit to covert to.<br>It also accepts any case of string as its utilizes ***.upper()*** on both input interface.<br>In a situation whereby you input a wrong response it filters it and displays an error message."
   ]
  },
  {
   "cell_type": "code",
   "execution_count": null,
   "id": "63face42-2c2c-49e4-b47f-56b499606996",
   "metadata": {},
   "outputs": [],
   "source": [
    "# Temperature Conversion version 2.0\n",
    "\n",
    "try:\n",
    "    def temp_Convt():   # callout function\n",
    "        print(\"A TEMPERATURE CONVERTER PROGRAM [AGE...v2.0]\")\n",
    "        print(\"Enter 'C' for celcius, 'F' for Fahrenheit and 'K' for Kelvin\")\n",
    "        \n",
    "        # User Input interface\n",
    "        temp = float(input('Enter the degree of temperature of the given location: '))\n",
    "        unit_Temp = input('Choose which unit Celcius, Kelvin or Fahrenheit: ').upper()\n",
    "        unit_conv = input('Which unit do you want to convert to: ').upper()\n",
    "        \n",
    "        degree_sign = \"\\u00B0\"  # degree sign\n",
    "        \n",
    "        # Temperature Units\n",
    "        unit1 = 'Fahrenheit' or 'F'\n",
    "        unit2 = 'Celcius' or 'C'\n",
    "        unit3 = 'Kelvin' or 'K'\n",
    "    \n",
    "        # Conversion Logic\n",
    "        if unit_Temp == 'F' or 'C' or 'K' in unit_conv:\n",
    "            print(f'Note! You want to convert {temp}{degree_sign}{unit_Temp} to {degree_sign}{unit_conv}')  # Notice\n",
    "            \n",
    "            if unit_Temp == 'C' in unit2:\n",
    "                if unit_conv == 'F' in unit1:  # convert celcius to Fahrenheit\n",
    "                    convertC_Fah = (temp * (9/5))+32\n",
    "                    print(f'Temperature in Celcius to fahrenheit is {convertC_Fah}{degree_sign}F ')\n",
    "    \n",
    "                elif unit_conv == 'K' in unit3:   # convert celcius to Kelvin\n",
    "                    convertC_kel = temp + 273.15\n",
    "                    print(f'Temperature in Celcius to Kelvin is {convertC_kel}{degree_sign}K ')\n",
    "                    \n",
    "            elif unit_Temp == 'F' in unit1:\n",
    "                if unit_conv == 'C' in unit2:  # convert Fahrenheit to Celcius\n",
    "                    convertF_Cel = (temp - 32)*5/9\n",
    "                    print(f'Temperature in fahrenheit to celcius is {convertF_Cel}{degree_sign}C ')\n",
    "                    \n",
    "                elif unit_conv == 'K' in unit3:  # convert Fahrenheit to Kelvin\n",
    "                    convertF_Kel = (temp -32)*(5/9)+273.15\n",
    "                    print(f'Temperature in fahrenheit to Kelvin is {convertF_Kel}{degree_sign}K ')\n",
    "                    \n",
    "            elif unit_Temp == 'K' in unit3:\n",
    "                if unit_conv == 'C' in unit2:  # convert Kelvin to Celcius\n",
    "                    convertK_Cel = temp - 273.15\n",
    "                    print(f'Temperature in Kelvin to celcius is {convertK_Cel}{degree_sign}C ')\n",
    "                    \n",
    "                elif unit_conv == 'F' in unit1:  # convert Kelvin to Celcius\n",
    "                    convertK_Fah = (temp - 273.15)*(9/5)+32\n",
    "                    print(f'Temperature in Kelvin to fahrenheit is {convertK_Fah}{degree_sign}F' )\n",
    "    \n",
    "                else:\n",
    "                    print(f\"Oopsy! {unit_conv} is not a type of Unit to be converted to.\")\n",
    "            else:\n",
    "                print(f\"Oops! lol {unit_Temp} is not a temperature Unit .\")  \n",
    "\n",
    "    # Run program\n",
    "    temp_Convt()\n",
    "except:\n",
    "    print('Error!! enter a valid number')\n",
    "print('''The code did not break...\n",
    "programmer: AGE....version 2.0\n",
    "      ''')  # AGE is an abbreviation of my name Atuegbe Godstime Ehischioya"
   ]
  }
 ],
 "metadata": {
  "kernelspec": {
   "display_name": "Python 3 (ipykernel)",
   "language": "python",
   "name": "python3"
  },
  "language_info": {
   "codemirror_mode": {
    "name": "ipython",
    "version": 3
   },
   "file_extension": ".py",
   "mimetype": "text/x-python",
   "name": "python",
   "nbconvert_exporter": "python",
   "pygments_lexer": "ipython3",
   "version": "3.11.7"
  }
 },
 "nbformat": 4,
 "nbformat_minor": 5
}
