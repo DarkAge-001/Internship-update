{
 "cells": [
  {
   "cell_type": "markdown",
   "id": "21449411-b143-4396-875b-07e8482d7e1f",
   "metadata": {},
   "source": [
    "###  Temperature Conversion<br>Version 1.0\n",
    "#### Create a Python program that converts temperatures between celsius and Fahrenheit.<br>Prompt the user to enter a temperature value and the unit of measurement, and then display the converted temperature."
   ]
  },
  {
   "cell_type": "markdown",
   "id": "d5d9ef67-8e26-46ea-8119-536f2308040b",
   "metadata": {},
   "source": [
    "##### The code below prompts the user to input the temperature of the surrounding and also select the unit of the temperature.\n",
    "Currently this program only accepts the conversion of *Celcuis* to *fahrenheit* and vice versa. Excluding the *Kelvin unit*.  \n",
    "The program employs User interface mechanism. It interacts with user by prompting the user to put in the required data and works with the data.  \n",
    "The program optimizes the use of **try** and **except** function to filter out the data input. ie: When it reqires a number (float or integer), it accepts only that input and reject any other.  \n",
    "The program is coded in a way that its not case sensitive, ie: it accepts any alpha-case input be it upper case or lower case. with the use of **upper.()** as long as the selection is within its specified unit.<br>It shows 100% accuracy in temperature conversion program."
   ]
  },
  {
   "cell_type": "code",
   "execution_count": null,
   "id": "2417fcdd-330b-4539-90e7-e9a9392519c5",
   "metadata": {},
   "outputs": [],
   "source": [
    "# Temperature conversion\n",
    "\n",
    "try:\n",
    "    print('Temperature Converter [AGE...v1.0]')\n",
    "    print('Enter \"c\" for celcius and \"F\" for Fahrenheit')\n",
    "    \n",
    "    temp = float(input('Enter the temperature value of the given location: '))\n",
    "    unit = input('Choose which unit Celcius or Fahrenheit: ').upper()\n",
    "    degree_sign = \"\\u00B0\"\n",
    "    unit1 = 'Fahrenheit' or 'F'\n",
    "    unit2 = 'Celcius' or 'C'\n",
    "    if unit == 'F' in unit1:\n",
    "        print(f\"You chose {unit1}\")\n",
    "        convertCel = (temp - 32)*5/9\n",
    "        print(f'Your temperature iin Celcius {convertCel}{degree_sign}C')\n",
    "        \n",
    "                \n",
    "    elif unit == 'C' in unit2:\n",
    "        print(f\"You chose {unit2}\")\n",
    "        convertFah = (temp * (9/5)+32)\n",
    "        print(f\"Your temperature degree in Fahrenheit {convertFah}{degree_sign}F\")\n",
    "\n",
    "    \n",
    "    else:\n",
    "        print(f\"Oops! {unit} is not a Unit.\")\n",
    "       \n",
    "            \n",
    "except:\n",
    "    print('Enter a valid number')\n",
    "\n",
    "print('''The code did not break...\n",
    "programmer: AGE....version 1.0\n",
    "      ''')  # AGE is an abbreviation of my name Atuegbe Godstime Ehischioya"
   ]
  }
 ],
 "metadata": {
  "kernelspec": {
   "display_name": "Python 3 (ipykernel)",
   "language": "python",
   "name": "python3"
  },
  "language_info": {
   "codemirror_mode": {
    "name": "ipython",
    "version": 3
   },
   "file_extension": ".py",
   "mimetype": "text/x-python",
   "name": "python",
   "nbconvert_exporter": "python",
   "pygments_lexer": "ipython3",
   "version": "3.11.7"
  }
 },
 "nbformat": 4,
 "nbformat_minor": 5
}
