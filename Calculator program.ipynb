{
 "cells": [
  {
   "cell_type": "markdown",
   "id": "0f62d070-ce2b-46c1-be0d-93aa9124ffed",
   "metadata": {},
   "source": [
    "### Calculator Program  \n",
    "Create a python program that acts as a basic calculator. it should prompt the user to enter two numbers and an operator **(+, -, |*, /, %)** and then display the result of the operation."
   ]
  },
  {
   "cell_type": "code",
   "execution_count": null,
   "id": "909207c9-4ff1-4b46-82a7-bfcdfbf0e9db",
   "metadata": {},
   "outputs": [],
   "source": [
    "def calculator_conv():\n",
    "    \"\"\"\n",
    "    This program prompts the user to enter two number and an operator and displays the result\n",
    "    \"\"\"\n",
    "    print(\"\"\"BASIC PREMIUM CALCULATOR\n",
    "    This Calculator can Add, Subtract, Multiply, Divide, and Modulus\n",
    "    Instruction: Use A for addition, S for subtraction, M for Multiplication, D for Divide, R for Modulus\n",
    "    \"\"\")\n",
    "\n",
    "    try:\n",
    "        num1 = float(input('Enter first number: '))\n",
    "        num2 = float(input('Enter second number: '))\n",
    "        opertn = input('Enter operation: ').upper()\n",
    "\n",
    "        # operations\n",
    "        operatn1 =  'Add' or 'A'\n",
    "        operatn2 = 'Subtraction' or 'S'\n",
    "        operatn3 = 'Multiply' or 'M'\n",
    "        operatn4 = 'Divide' or 'D'\n",
    "        operatn5 =  'R'\n",
    "        \n",
    "        if opertn == 'A' in operatn1 or opertn == 'S' in operatn2 or opertn == 'M' in operatn3 or opertn == 'D' in operatn4 or opertn == 'R' in operatn5:\n",
    "            print('Note the order of inputing Values matter.')\n",
    "\n",
    "            # calculate\n",
    "            if opertn == 'A':\n",
    "                calAdd = num1 + num2\n",
    "                print(f'{num1} + {num2} = {calAdd}')\n",
    "\n",
    "            elif opertn == 'S':\n",
    "                calSub = num1 - num2\n",
    "                print(f'{num1} - {num2} = {calSub}')\n",
    "\n",
    "            elif opertn == 'M':\n",
    "                calMul = num1 * num2\n",
    "                print(f'{num1} * {num2} = {calMul}')\n",
    "\n",
    "            elif opertn == 'D':\n",
    "                calDiv = num1 / num2\n",
    "                print(f'{num1} / {num2} = {calDiv}')\n",
    "\n",
    "            elif opertn == 'R':\n",
    "                calMol = num1 % num2\n",
    "                print(f'{num1} mod {num2} = {calMol}')\n",
    "\n",
    "            else:\n",
    "                print('Wrong Operation')\n",
    "\n",
    "        else:\n",
    "            print('Invalid operation input')\n",
    "            \n",
    "    except:\n",
    "        print('Oops! Enter a valid number')\n",
    "    # run program\n",
    "calculator_conv()"
   ]
  }
 ],
 "metadata": {
  "kernelspec": {
   "display_name": "Python 3 (ipykernel)",
   "language": "python",
   "name": "python3"
  },
  "language_info": {
   "codemirror_mode": {
    "name": "ipython",
    "version": 3
   },
   "file_extension": ".py",
   "mimetype": "text/x-python",
   "name": "python",
   "nbconvert_exporter": "python",
   "pygments_lexer": "ipython3",
   "version": "3.11.7"
  }
 },
 "nbformat": 4,
 "nbformat_minor": 5
}
