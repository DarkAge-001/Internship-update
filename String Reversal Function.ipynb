{
 "cells": [
  {
   "cell_type": "markdown",
   "id": "70aba318-0dcd-4e07-a58e-cc2ab19923c9",
   "metadata": {},
   "source": [
    "## String Reversal function\n",
    "#### Create a python function that takes a string as input and returns the reverse of that string.<br>\n",
    "Using **Return slicing** ***[::-1]*** to create a prompt in the python function<br>Also using a User interface to collect data input.<br>And a ***casefold()*** format "
   ]
  },
  {
   "cell_type": "code",
   "execution_count": 1,
   "id": "df99a6d2-7fb1-4f37-8720-d2dbde1b26e0",
   "metadata": {},
   "outputs": [
    {
     "name": "stdin",
     "output_type": "stream",
     "text": [
      "Enter the word or sentence to be reversed:  win\n"
     ]
    },
    {
     "name": "stdout",
     "output_type": "stream",
     "text": [
      "niw\n",
      "The code did not break...\n",
      "programmer: AGE\n",
      "      \n"
     ]
    }
   ],
   "source": [
    "# Sring Reversal\n",
    "\n",
    "def stringReversal(input_string):\n",
    "    \"\"\"\n",
    "    This function receives a string as input and returns the reverse of the string. \n",
    "    \"\"\"   # prompt\n",
    "    return input_string[::-1]\n",
    "\n",
    "input_text = input('Enter the word or sentence to be reversed: ').casefold()\n",
    "reverse_Text = stringReversal(input_text)\n",
    "print(reverse_Text)\n",
    "print('''The code did not break...\n",
    "programmer: AGE\n",
    "      ''')  # AGE is an abbreviation of my name Atuegbe Godstime Ehischioya"
   ]
  },
  {
   "cell_type": "code",
   "execution_count": null,
   "id": "c6c0aa49-1d5c-46c7-bc98-dd7f6f918230",
   "metadata": {},
   "outputs": [],
   "source": []
  }
 ],
 "metadata": {
  "kernelspec": {
   "display_name": "Python 3 (ipykernel)",
   "language": "python",
   "name": "python3"
  },
  "language_info": {
   "codemirror_mode": {
    "name": "ipython",
    "version": 3
   },
   "file_extension": ".py",
   "mimetype": "text/x-python",
   "name": "python",
   "nbconvert_exporter": "python",
   "pygments_lexer": "ipython3",
   "version": "3.11.7"
  }
 },
 "nbformat": 4,
 "nbformat_minor": 5
}
