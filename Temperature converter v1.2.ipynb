{
 "cells": [
  {
   "cell_type": "markdown",
   "id": "68371eab-adb4-4552-ab59-0b8d8c466ce1",
   "metadata": {},
   "source": [
    "#### Version 1.2  \n",
    "The Version 1.2 utilizes the **def** function to run the program where as Version 1.0 doesn't utilize a call out function"
   ]
  },
  {
   "cell_type": "code",
   "execution_count": null,
   "id": "283fee3e-497f-4e42-8a3e-411d0f6c385c",
   "metadata": {},
   "outputs": [],
   "source": [
    "# Version 1.2\n",
    "try:\n",
    "    def temp_conv():   # temperature converter function\n",
    "        print('A TEMPERATURE CONVERTER PROGRAM [AGE...v1.2]')\n",
    "        print('Enter \"C\" for celcius and \"F\" for Fahrenheit')\n",
    "    \n",
    "        # user input interface\n",
    "        temp = float(input('Enter the temperature value of the given location: '))\n",
    "        unit = input('Choose which unit Celcius or Fahrenheit: ').upper()\n",
    "        \n",
    "        degree_sign = \"\\u00B0\"\n",
    "        unit1 = 'Fahrenheit' or 'F'\n",
    "        unit2 = 'Celcius' or 'C'\n",
    "    \n",
    "        # conversion logic\n",
    "        if unit == 'F' in unit1:  # if the unit is Fahrenheit convert to Celcius\n",
    "            print(f\"You chose {unit1}\")\n",
    "            convertCel = (temp - 32)*5/9\n",
    "            print(f'Your temperature iin Celcius {convertCel}{degree_sign}C')\n",
    "            \n",
    "                    \n",
    "        elif unit == 'C' in unit2:  # if unit is Celcius convert to Fahrenheit\n",
    "            print(f\"You chose {unit2}\")\n",
    "            convertFah = (temp * (9/5)+32)\n",
    "            print(f\"Your temperature degree in Fahrenheit {convertFah}{degree_sign}F\")\n",
    "    \n",
    "        \n",
    "        else:\n",
    "            print(f\"Oops! {unit} is not a Unit.\")\n",
    "           \n",
    "    # Run the program\n",
    "    temp_conv()\n",
    "except:\n",
    "    print('Invalid number')\n",
    "print('''The code did not break...\n",
    "programmer: AGE....version 1.2\n",
    "      ''')  # AGE is an abbreviation of my name Atuegbe Godstime Ehischioya"
   ]
  }
 ],
 "metadata": {
  "kernelspec": {
   "display_name": "Python 3 (ipykernel)",
   "language": "python",
   "name": "python3"
  },
  "language_info": {
   "codemirror_mode": {
    "name": "ipython",
    "version": 3
   },
   "file_extension": ".py",
   "mimetype": "text/x-python",
   "name": "python",
   "nbconvert_exporter": "python",
   "pygments_lexer": "ipython3",
   "version": "3.11.7"
  }
 },
 "nbformat": 4,
 "nbformat_minor": 5
}
