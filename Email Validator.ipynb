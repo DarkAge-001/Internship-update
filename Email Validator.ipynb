{
 "cells": [
  {
   "cell_type": "markdown",
   "id": "1db60e8a-7402-4caf-91ec-da14d0b9f4ca",
   "metadata": {},
   "source": [
    "### Email Validator  \n",
    "#### Develop a Python function that validates whether a given string is a valid email address. Implement checks for the format, including the presence of an \"@\" symbol and a domain name."
   ]
  },
  {
   "cell_type": "markdown",
   "id": "4f7c3452-5bc1-4ac4-af65-43e101ed54af",
   "metadata": {},
   "source": [
    "#### What's an Email validator?  \n",
    "An Email Validator is a tool or function used to check whether a given email is valid and follows the proper format.<br>it ensures that the email conforms to the rules of email syntax as defined by standards like RFC 5322.<br>For this program the module **'re'** ***(regular expression library)*** was utilized. This is because it provides tools for working with text patterns, such as "
   ]
  },
  {
   "cell_type": "code",
   "execution_count": null,
   "id": "5d23dcae-5b35-4dcc-8e1a-7383da370346",
   "metadata": {},
   "outputs": [],
   "source": [
    "import re \n",
    "\n",
    "def is_valid_email(email):\n",
    "    \"\"\"\n",
    "    Validates whether the given string is a valid email address.\n",
    "    Args:\n",
    "        email(Str): The email address to validate.\n",
    "    Returns:\n",
    "        bool: True if the email is valid, Fals otherwise.\n",
    "    \"\"\"\n",
    "\n",
    "    email_regex = r'^[a-zA-Z0-9_.+-]+@[a-zA-Z0-9-]+\\.[a-zA-Z]{2,}$'  # A regular expression for validating an email\n",
    "\n",
    "    if re.match(email_regex, email):\n",
    "        return True\n",
    "    return False\n",
    "\n",
    "test_email = input(\"Enter an email address to validate: \")\n",
    "if is_valid_email(test_email):\n",
    "    print(f\"'{test_email}' is a valid email address.\" )\n",
    "else:\n",
    "    print(f\"'{test_email}' is an invalid email.\")\n",
    "\n",
    "print('''The code did not break...\n",
    "programmer: AGE\n",
    "      ''')  # AGE is an abbreviation of my name Atuegbe Godstime Ehischioya"
   ]
  }
 ],
 "metadata": {
  "kernelspec": {
   "display_name": "Python 3 (ipykernel)",
   "language": "python",
   "name": "python3"
  },
  "language_info": {
   "codemirror_mode": {
    "name": "ipython",
    "version": 3
   },
   "file_extension": ".py",
   "mimetype": "text/x-python",
   "name": "python",
   "nbconvert_exporter": "python",
   "pygments_lexer": "ipython3",
   "version": "3.11.7"
  }
 },
 "nbformat": 4,
 "nbformat_minor": 5
}
